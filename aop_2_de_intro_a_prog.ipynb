{
  "nbformat": 4,
  "nbformat_minor": 0,
  "metadata": {
    "colab": {
      "name": "aop 2 de intro a prog",
      "provenance": [],
      "authorship_tag": "ABX9TyO1arD+56KIwUIasrmyD7oD",
      "include_colab_link": true
    },
    "kernelspec": {
      "name": "python3",
      "display_name": "Python 3"
    },
    "language_info": {
      "name": "python"
    }
  },
  "cells": [
    {
      "cell_type": "markdown",
      "metadata": {
        "id": "view-in-github",
        "colab_type": "text"
      },
      "source": [
        "<a href=\"https://colab.research.google.com/github/gabiula/testing/blob/master/aop_2_de_intro_a_prog.ipynb\" target=\"_parent\"><img src=\"https://colab.research.google.com/assets/colab-badge.svg\" alt=\"Open In Colab\"/></a>"
      ]
    },
    {
      "cell_type": "code",
      "metadata": {
        "id": "QOlqWJUxAJeG"
      },
      "source": [
        ""
      ],
      "execution_count": null,
      "outputs": []
    },
    {
      "cell_type": "code",
      "metadata": {
        "id": "oNtcZtLrzd8e"
      },
      "source": [
        "import numpy as np\n",
        "\n",
        "index = 0\n",
        "\n",
        "alunos = int(input(\"Qual é o número de alunos? \"))\n",
        "aop1 = np.zeros(alunos)\n",
        "aop2 = np.zeros(alunos)\n",
        "aop3 = np.zeros(alunos)\n",
        "prova = np.zeros(alunos)\n",
        "recupera = np.zeros(alunos)\n",
        "mm = np.zeros(alunos)\n",
        "nota_final = 0\n",
        "print(\"Vamos começar a inserir as notas dos alunos. Primeiro, insira as notas da AOP1\")\n",
        "\n",
        "while index < alunos:\n",
        "  aop1[index] = float(input(f'Nota [0.0, 1.0] do Aluno {index + 1}: '))\n",
        "  if aop1[index] < 0.0 or aop1[index] > 1.0:\n",
        "    print(\"Errou, tente novamente.\")\n",
        "  else:\n",
        "    index += 1\n",
        "if index == alunos:\n",
        "  index = 0\n",
        "\n",
        "print(\"Agora vamos pra AOP2.\")\n",
        "\n",
        "while index < alunos:\n",
        "  aop2[index] = float(input(f'Nota [0.0, 2.0] do Aluno {index + 1}: '))\n",
        "  if aop2[index] < 0.0 or aop2[index] > 2.0:\n",
        "    print(\"Errou, tente novamente.\")\n",
        "  else:\n",
        "    index += 1\n",
        "if index == alunos:\n",
        "  index = 0\n",
        "\n",
        "print(\"Agora, a AOP3.\")\n",
        "while index < alunos:\n",
        "  aop3[index] = float(input(f'Nota [0.0, 1.0] do Aluno {index + 1}: '))\n",
        "  if aop3[index] < 0.0 or aop3[index] > 1.0:\n",
        "    print(\"Errou, tente novamente.\")\n",
        "  else:\n",
        "    index += 1\n",
        "if index == alunos:\n",
        "  index = 0\n",
        "\n",
        "print(\"Finalmente, a nota da prova.\")\n",
        "\n",
        "while index < alunos:\n",
        "  prova[index] = float(input(f'Nota [0.0, 6.0] do Aluno {index + 1}: '))\n",
        "  if prova[index] < 0.0 or prova[index] > 6.0:\n",
        "    print(\"Errou, tente novamente.\")\n",
        "  else:\n",
        "    index += 1\n",
        "if index == alunos:\n",
        "  index = 0\n",
        "\n",
        "prova = prova.reshape((alunos,1))\n",
        "aop1 = aop1.reshape((alunos,1))\n",
        "aop2 = aop2.reshape((alunos,1))\n",
        "aop3 = aop3.reshape((alunos,1))\n",
        "recupera = recupera.reshape((alunos,1))\n",
        "notas = np.concatenate((aop1, aop2, aop3, prova, recupera), axis=1)\n",
        "notas\n",
        "\n",
        "aprovados = 0\n",
        "\n",
        "while index < alunos:\n",
        "  mm[index] = aop1[index]+aop2[index]+aop3[index]+prova[index]\n",
        "  print(f'A média do módulo do aluno {index + 1} é: ', mm[index])\n",
        "  \n",
        "  if mm[index]>= 7:\n",
        "    print(f\"Aprovado com {mm[index]} pontos. Parabéns!\")\n",
        "    aprovados += 1\n",
        "    index += 1\n",
        "  elif mm[index]<7:\n",
        "    print(\"O aluno precisa da prova de recuperação.\")\n",
        "    recupera[index] = float(input(f'Nota [0.0, 10.0] do Aluno {index + 1}: '))\n",
        "    if recupera[index] < 0.0 or recupera[index] > 10.0:\n",
        "      print(\"Errou, tente novamente.\")\n",
        "    nota_final = float((mm[index]+recupera[index])/2)\n",
        "\n",
        "    if nota_final >= 5:\n",
        "      print(f\"Aprovado com {nota_final} pontos. Parabéns!\")\n",
        "      aprovados += 1\n",
        "      index += 1\n",
        "    else:\n",
        "      print(f\"Não deu, o aluno {index+1} foi reprovado com {nota_final} pontos.\")\n",
        "      index+=1\n",
        "  \n",
        "porcentagem_de_aprovados = (aprovados/alunos)*100\n",
        "print(f\"A porcentagem de alunos aprovados foi de {porcentagem_de_aprovados} %.\")\n",
        "\n"
      ],
      "execution_count": null,
      "outputs": []
    }
  ]
}